{
  "nbformat": 4,
  "nbformat_minor": 0,
  "metadata": {
    "colab": {
      "provenance": [],
      "authorship_tag": "ABX9TyNHFe4V8i3WUj4HU/I0NBe7",
      "include_colab_link": true
    },
    "kernelspec": {
      "name": "python3",
      "display_name": "Python 3"
    },
    "language_info": {
      "name": "python"
    }
  },
  "cells": [
    {
      "cell_type": "markdown",
      "metadata": {
        "id": "view-in-github",
        "colab_type": "text"
      },
      "source": [
        "<a href=\"https://colab.research.google.com/github/vmaeeeee03/CompLing_2024/blob/main/mashine_translate.ipynb\" target=\"_parent\"><img src=\"https://colab.research.google.com/assets/colab-badge.svg\" alt=\"Open In Colab\"/></a>"
      ]
    },
    {
      "cell_type": "code",
      "execution_count": null,
      "metadata": {
        "id": "TMoVT1PY1Jrq"
      },
      "outputs": [],
      "source": [
        "Система машинного перевода на правилах для русского и парсултанга (змеиного языка)\n",
        "\n",
        "Предпроцессинг:\n",
        "- Очистка от знаков препинания через регулярные выражения - re\n",
        "- Токенизация русского текста по предложениям и по словам - библиотека razdel\n",
        "- Лемматизация + морфологический парсинг - Pymzstem3\n",
        "\n",
        "3 примера правил для этих языков:\n",
        "ОГОНЬ (сущ., И.п.) + ГОРЕТЬ (гл., несов.вид, наст.вр., ед.ч.) => EŠAHÄSA (ОГОНЬ ГОРИТ)\n",
        "ДА(частица) => SA\n",
        "Я (личное местоимение, И.п.) + ЗАМЕРЗНУТЬ (гл., сов.вид, прош.вр., ед.ч.) => AI BANA AƩE (Я ЗАМЁРЗ)"
      ]
    }
  ]
}